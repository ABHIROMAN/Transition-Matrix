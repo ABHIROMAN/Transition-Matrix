{
 "cells": [
  {
   "cell_type": "code",
   "execution_count": 53,
   "metadata": {},
   "outputs": [],
   "source": [
    "import numpy as np\n",
    "import pandas as pd"
   ]
  },
  {
   "cell_type": "code",
   "execution_count": 17,
   "metadata": {},
   "outputs": [],
   "source": [
    "weather_data=['sun', 'rain', 'cloud', 'cloud', 'sun', 'sun', 'cloud', 'rain', \n",
    "  'rain', 'cloud', 'rain', 'sun', 'cloud', 'cloud', 'sun', 'sun', \n",
    "  'cloud', 'cloud', 'rain', 'rain', 'sun', 'rain', 'cloud', 'sun',\n",
    "  'sun', 'cloud', 'rain', 'rain', 'cloud', 'sun', 'sun', 'cloud', \n",
    "  'rain', 'sun', 'cloud', 'cloud', 'sun', 'sun', 'cloud', 'cloud', \n",
    "  'rain', 'rain', 'rain', 'sun', 'sun', 'sun', 'sun', 'cloud', 'cloud', \n",
    "  'cloud', 'cloud', 'rain', 'cloud', 'cloud', 'sun', 'sun', 'sun', \n",
    "  'cloud', 'sun', 'rain', 'rain', 'sun', 'sun', 'sun', 'rain', \n",
    "  'rain', 'cloud', 'cloud', 'sun', 'sun', 'sun', 'sun', 'cloud', 'sun', \n",
    "  'cloud', 'cloud', 'cloud', 'rain', 'rain', 'cloud', 'rain', \n",
    "  'rain', 'cloud', 'cloud', 'sun', 'cloud', 'rain', 'rain', 'rain', \n",
    "  'cloud', 'sun', 'sun', 'sun', 'cloud', 'sun', 'sun', 'cloud', 'cloud',\n",
    "  'sun', 'sun']"
   ]
  },
  {
   "cell_type": "code",
   "execution_count": 33,
   "metadata": {},
   "outputs": [],
   "source": [
    "ar = np.array(weather_data, dtype='|S1').view(np.uint8)"
   ]
  },
  {
   "cell_type": "markdown",
   "metadata": {},
   "source": [
    "## Getting Initial probability"
   ]
  },
  {
   "cell_type": "code",
   "execution_count": 20,
   "metadata": {},
   "outputs": [
    {
     "name": "stdout",
     "output_type": "stream",
     "text": [
      "0.38\n",
      "0.25\n",
      "0.37\n"
     ]
    }
   ],
   "source": [
    "print(weather_data.count('sun')/len(weather_data))\n",
    "print(weather_data.count('rain')/len(weather_data))\n",
    "print(weather_data.count('cloud')/len(weather_data))"
   ]
  },
  {
   "cell_type": "markdown",
   "metadata": {},
   "source": [
    "### q = (0.38,0.25,0.37)"
   ]
  },
  {
   "cell_type": "code",
   "execution_count": 34,
   "metadata": {},
   "outputs": [],
   "source": [
    "c, r, s = 99, 114, 115 # you can verify this using chr and ord\n",
    "lookup = np.empty((s+1,), dtype=int)\n",
    "lookup[[c, r, s]] = np.arange(3)"
   ]
  },
  {
   "cell_type": "code",
   "execution_count": 48,
   "metadata": {},
   "outputs": [],
   "source": [
    "# translate c, r, s to 0, 1, 2\n",
    "rc = lookup[ar]"
   ]
  },
  {
   "cell_type": "code",
   "execution_count": 57,
   "metadata": {},
   "outputs": [
    {
     "name": "stdout",
     "output_type": "stream",
     "text": [
      "[[14 10 13]\n",
      " [ 9 11  5]\n",
      " [14  4 19]]\n"
     ]
    }
   ],
   "source": [
    "# get counts (of pairs (today, tomorrow))\n",
    "count = np.zeros((3, 3), dtype=int)\n",
    "np.add.at(count, (rc[:-1], rc[1:]), 1)\n",
    "print(count)"
   ]
  },
  {
   "cell_type": "code",
   "execution_count": 58,
   "metadata": {},
   "outputs": [
    {
     "name": "stdout",
     "output_type": "stream",
     "text": [
      "[[0.14141414 0.1010101  0.13131313]\n",
      " [0.09090909 0.11111111 0.05050505]\n",
      " [0.14141414 0.04040404 0.19191919]]\n"
     ]
    }
   ],
   "source": [
    "# or as probs\n",
    "probs = count / count.sum()\n",
    "print(probs)"
   ]
  },
  {
   "cell_type": "markdown",
   "metadata": {},
   "source": [
    "### Future values"
   ]
  },
  {
   "cell_type": "code",
   "execution_count": 59,
   "metadata": {},
   "outputs": [
    {
     "name": "stdout",
     "output_type": "stream",
     "text": [
      "[[0.37837838 0.27027027 0.35135135]\n",
      " [0.36       0.44       0.2       ]\n",
      " [0.37837838 0.10810811 0.51351351]]\n"
     ]
    }
   ],
   "source": [
    "# if today is sun how probable is rain tomorrow etc.\n",
    "cond = count / count.sum(axis=-1, keepdims=True)\n",
    "print(cond)"
   ]
  },
  {
   "cell_type": "markdown",
   "metadata": {},
   "source": [
    "#### CHECKING USING PANDAS DATAFRAME"
   ]
  },
  {
   "cell_type": "code",
   "execution_count": 56,
   "metadata": {},
   "outputs": [
    {
     "data": {
      "text/html": [
       "<div>\n",
       "<style scoped>\n",
       "    .dataframe tbody tr th:only-of-type {\n",
       "        vertical-align: middle;\n",
       "    }\n",
       "\n",
       "    .dataframe tbody tr th {\n",
       "        vertical-align: top;\n",
       "    }\n",
       "\n",
       "    .dataframe thead th {\n",
       "        text-align: right;\n",
       "    }\n",
       "</style>\n",
       "<table border=\"1\" class=\"dataframe\">\n",
       "  <thead>\n",
       "    <tr style=\"text-align: right;\">\n",
       "      <th>next_state</th>\n",
       "      <th>cloud</th>\n",
       "      <th>rain</th>\n",
       "      <th>sun</th>\n",
       "    </tr>\n",
       "    <tr>\n",
       "      <th>state</th>\n",
       "      <th></th>\n",
       "      <th></th>\n",
       "      <th></th>\n",
       "    </tr>\n",
       "  </thead>\n",
       "  <tbody>\n",
       "    <tr>\n",
       "      <th>cloud</th>\n",
       "      <td>0.378378</td>\n",
       "      <td>0.270270</td>\n",
       "      <td>0.351351</td>\n",
       "    </tr>\n",
       "    <tr>\n",
       "      <th>rain</th>\n",
       "      <td>0.360000</td>\n",
       "      <td>0.440000</td>\n",
       "      <td>0.200000</td>\n",
       "    </tr>\n",
       "    <tr>\n",
       "      <th>sun</th>\n",
       "      <td>0.378378</td>\n",
       "      <td>0.108108</td>\n",
       "      <td>0.513514</td>\n",
       "    </tr>\n",
       "  </tbody>\n",
       "</table>\n",
       "</div>"
      ],
      "text/plain": [
       "next_state     cloud      rain       sun\n",
       "state                                   \n",
       "cloud       0.378378  0.270270  0.351351\n",
       "rain        0.360000  0.440000  0.200000\n",
       "sun         0.378378  0.108108  0.513514"
      ]
     },
     "execution_count": 56,
     "metadata": {},
     "output_type": "execute_result"
    }
   ],
   "source": [
    "df = pd.DataFrame(columns = ['state', 'next_state'])\n",
    "for i, val in enumerate(weather_data[:-1]): # We don't care about last state\n",
    "    df_stg = pd.DataFrame(index=[0])\n",
    "    df_stg['state'], df_stg['next_state'] = weather_data[i], weather_data[i+1]\n",
    "    df = pd.concat([df, df_stg], axis = 0)\n",
    "cross_tab = pd.crosstab(df['state'], df['next_state'])\n",
    "cross_tab.div(cross_tab.sum(axis=1), axis=0)"
   ]
  },
  {
   "cell_type": "markdown",
   "metadata": {},
   "source": [
    "\n",
    "### By - \n",
    "### ABHISHEK KUMAR\n",
    "### (20BAI10384)"
   ]
  }
 ],
 "metadata": {
  "kernelspec": {
   "display_name": "Python 3",
   "language": "python",
   "name": "python3"
  },
  "language_info": {
   "codemirror_mode": {
    "name": "ipython",
    "version": 3
   },
   "file_extension": ".py",
   "mimetype": "text/x-python",
   "name": "python",
   "nbconvert_exporter": "python",
   "pygments_lexer": "ipython3",
   "version": "3.8.5"
  }
 },
 "nbformat": 4,
 "nbformat_minor": 4
}
